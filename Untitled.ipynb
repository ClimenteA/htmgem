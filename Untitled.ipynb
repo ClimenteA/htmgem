{
 "cells": [
  {
   "cell_type": "code",
   "execution_count": 1,
   "id": "946895eb",
   "metadata": {},
   "outputs": [],
   "source": [
    "import re"
   ]
  },
  {
   "cell_type": "code",
   "execution_count": 83,
   "id": "7e11259f",
   "metadata": {},
   "outputs": [
    {
     "data": {
      "text/plain": [
       "'\\n<!DOCTYPE html>\\n<html lang=\"en\">\\n<head>\\n    <meta charset=\"UTF-8\">\\n    <meta http-equiv=\"X-UA-Compatible\" content=\"IE=edge\">\\n    <meta name=\"viewport\" content=\"width=device-width, initial-scale=1.0\">\\n    <link rel=\"stylesheet\" href=\"https://cdnjs.cloudflare.com/ajax/libs/tailwindcss/2.1.2/tailwind.min.css\">\\n    <script src=\"https://cdn.jsdelivr.net/gh/alpinejs/alpine@v2.x.x/dist/alpine.min.js\" defer></script>\\n</head>\\n<body>\\n    \\n<div id=\"htmlgem-app\">\\n    \\n    <!-- This will be replaced-->\\n\\n</div>\\n\\n</body>\\n</html>\\n\\n'"
      ]
     },
     "execution_count": 83,
     "metadata": {},
     "output_type": "execute_result"
    }
   ],
   "source": [
    "htm_text = \"\"\"\n",
    "<!DOCTYPE html>\n",
    "<html lang=\"en\">\n",
    "<head>\n",
    "    <meta charset=\"UTF-8\">\n",
    "    <meta http-equiv=\"X-UA-Compatible\" content=\"IE=edge\">\n",
    "    <meta name=\"viewport\" content=\"width=device-width, initial-scale=1.0\">\n",
    "    <link rel=\"stylesheet\" href=\"https://cdnjs.cloudflare.com/ajax/libs/tailwindcss/2.1.2/tailwind.min.css\">\n",
    "    <script src=\"https://cdn.jsdelivr.net/gh/alpinejs/alpine@v2.x.x/dist/alpine.min.js\" defer></script>\n",
    "</head>\n",
    "<body>\n",
    "    \n",
    "<div id=\"htmlgem-app\">\n",
    "    \n",
    "    <!-- This will be replaced-->\n",
    "\n",
    "</div>\n",
    "\n",
    "</body>\n",
    "</html>\n",
    "\n",
    "\"\"\"\n",
    "htm_text"
   ]
  },
  {
   "cell_type": "code",
   "execution_count": 84,
   "id": "0d859492",
   "metadata": {},
   "outputs": [
    {
     "data": {
      "text/plain": [
       "'\\n<!DOCTYPE html>\\n<html lang=\"en\">\\n<head>\\n    <meta charset=\"UTF-8\">\\n    <meta http-equiv=\"X-UA-Compatible\" content=\"IE=edge\">\\n    <meta name=\"viewport\" content=\"width=device-width, initial-scale=1.0\">\\n    <link rel=\"stylesheet\" href=\"https://cdnjs.cloudflare.com/ajax/libs/tailwindcss/2.1.2/tailwind.min.css\">\\n    <script src=\"https://cdn.jsdelivr.net/gh/alpinejs/alpine@v2.x.x/dist/alpine.min.js\" defer></script>\\n</head>\\n<body>\\n    \\n<div id=\"htmlgem-app\">data</div>\\n\\n</body>\\n</html>\\n\\n'"
      ]
     },
     "execution_count": 84,
     "metadata": {},
     "output_type": "execute_result"
    }
   ],
   "source": [
    "pattern = re.compile(r'(<div id=\"htmlgem-app\">)(.*?)(</div>)', re.DOTALL)\n",
    "\n",
    "re.sub(pattern, r\"\\1data\\3\", htm_text)"
   ]
  },
  {
   "cell_type": "code",
   "execution_count": null,
   "id": "50e21461",
   "metadata": {},
   "outputs": [],
   "source": [
    "re.sub('ab', 'ad', 'abc')"
   ]
  },
  {
   "cell_type": "code",
   "execution_count": null,
   "id": "118a1acd",
   "metadata": {},
   "outputs": [],
   "source": [
    "re.sub('(a)b', r'\\1d', 'abc')"
   ]
  },
  {
   "cell_type": "code",
   "execution_count": 59,
   "id": "2471a882",
   "metadata": {},
   "outputs": [
    {
     "data": {
      "text/plain": [
       "'Your are 32 years old.'"
      ]
     },
     "execution_count": 59,
     "metadata": {},
     "output_type": "execute_result"
    }
   ],
   "source": [
    "pattern = re.compile(\"I am (\\d{1,2}) .*\")\n",
    "\n",
    "text = \"I am 32 years old\"\n",
    "\n",
    "re.sub(pattern, r\"Your are \\1 years old.\", text)"
   ]
  },
  {
   "cell_type": "code",
   "execution_count": 86,
   "id": "72cf492d",
   "metadata": {},
   "outputs": [
    {
     "data": {
      "text/plain": [
       "'rerer asdas'"
      ]
     },
     "execution_count": 86,
     "metadata": {},
     "output_type": "execute_result"
    }
   ],
   "source": [
    "'rerer=\"None\" asdas=\"None\"'.replace('=\"None\"', '')"
   ]
  },
  {
   "cell_type": "code",
   "execution_count": null,
   "id": "e1ffc67f",
   "metadata": {},
   "outputs": [],
   "source": []
  },
  {
   "cell_type": "code",
   "execution_count": null,
   "id": "46c29131",
   "metadata": {},
   "outputs": [],
   "source": []
  },
  {
   "cell_type": "code",
   "execution_count": null,
   "id": "f5ec0e1e",
   "metadata": {},
   "outputs": [],
   "source": []
  },
  {
   "cell_type": "code",
   "execution_count": null,
   "id": "150f16e7",
   "metadata": {},
   "outputs": [],
   "source": []
  },
  {
   "cell_type": "code",
   "execution_count": null,
   "id": "8a6edaf7",
   "metadata": {},
   "outputs": [],
   "source": []
  },
  {
   "cell_type": "code",
   "execution_count": null,
   "id": "5a6bf48c",
   "metadata": {},
   "outputs": [],
   "source": []
  }
 ],
 "metadata": {
  "kernelspec": {
   "display_name": "Python 3",
   "language": "python",
   "name": "python3"
  },
  "language_info": {
   "codemirror_mode": {
    "name": "ipython",
    "version": 3
   },
   "file_extension": ".py",
   "mimetype": "text/x-python",
   "name": "python",
   "nbconvert_exporter": "python",
   "pygments_lexer": "ipython3",
   "version": "3.8.5"
  }
 },
 "nbformat": 4,
 "nbformat_minor": 5
}
