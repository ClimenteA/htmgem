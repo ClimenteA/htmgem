{
 "cells": [
  {
   "cell_type": "code",
   "execution_count": 1,
   "id": "acd6c009",
   "metadata": {},
   "outputs": [],
   "source": [
    "import re\n",
    "import json\n",
    "import keyword"
   ]
  },
  {
   "cell_type": "code",
   "execution_count": 2,
   "id": "f6db8d02",
   "metadata": {},
   "outputs": [],
   "source": [
    "with open(\"html5_tags.json\", \"r\") as f:\n",
    "    html5_tags = json.load(f)"
   ]
  },
  {
   "cell_type": "code",
   "execution_count": 3,
   "id": "44d0b5a5",
   "metadata": {},
   "outputs": [],
   "source": [
    "reserved_keywords = keyword.kwlist + dir(__builtins__)"
   ]
  },
  {
   "cell_type": "code",
   "execution_count": 4,
   "id": "21dafa75",
   "metadata": {},
   "outputs": [],
   "source": [
    "imports_template = \"\"\"\n",
    "from inspect import isfunction\n",
    "\n",
    "\"\"\""
   ]
  },
  {
   "cell_type": "code",
   "execution_count": 5,
   "id": "cd204dda",
   "metadata": {},
   "outputs": [],
   "source": [
    "prep_attrs_template = \"\"\"def _prep_attrs(attrs):\n",
    "    \n",
    "    if not isinstance(attrs, dict): return \"\"\n",
    "    \n",
    "    if \"class\" in attrs:\n",
    "        if isinstance(attrs[\"class\"], list):\n",
    "            attrs[\"class\"] = \" \".join(attrs[\"class\"])\n",
    "    \n",
    "    attrs = \" \".join([f'{k}=\"{v}\"' for k,v in attrs.items()])\n",
    "    attrs = \" \" + attrs if attrs else attrs \n",
    "    \n",
    "    return attrs\n",
    "\"\"\""
   ]
  },
  {
   "cell_type": "code",
   "execution_count": 6,
   "id": "9e65801c",
   "metadata": {},
   "outputs": [],
   "source": [
    "prep_content_template = \"\"\"def _prep_content(content):\n",
    "    \n",
    "    if not content: return \"\"\n",
    "    \n",
    "    if isfunction(content):\n",
    "        content = content()\n",
    "    \n",
    "    if isinstance(content, list):\n",
    "        content_list = []\n",
    "        for obj in content:\n",
    "            if isfunction(obj): \n",
    "                content_list.append(obj())\n",
    "            else:\n",
    "                content_list.append(obj)\n",
    "    \n",
    "        content = \" \".join([c for c in content_list])\n",
    "        \n",
    "    return content\n",
    "\"\"\""
   ]
  },
  {
   "cell_type": "code",
   "execution_count": 7,
   "id": "f859a60a",
   "metadata": {},
   "outputs": [],
   "source": [
    "prep_args_template = \"\"\"\n",
    "\n",
    "def _prep_args(attrs, content):\n",
    "\n",
    "    if not all([attrs, content]): return \"\", \"\"\n",
    "    \n",
    "    if all([attrs, content]):\n",
    "        attrs = _prep_attrs(attrs)\n",
    "        content = _prep_content(content)\n",
    "        return attrs, content\n",
    "       \n",
    "       \n",
    "       \n",
    "\"\"\""
   ]
  },
  {
   "cell_type": "code",
   "execution_count": 8,
   "id": "149a06d8",
   "metadata": {},
   "outputs": [],
   "source": [
    "tag_funcs = []\n",
    "tag_funcs.append(imports_template)\n",
    "tag_funcs.append(prep_attrs_template)\n",
    "tag_funcs.append(prep_content_template)\n",
    "tag_funcs.append(prep_args_template)"
   ]
  },
  {
   "cell_type": "code",
   "execution_count": 9,
   "id": "f9ef9c86",
   "metadata": {},
   "outputs": [],
   "source": [
    "for t in html5_tags:\n",
    "    tag_name = re.match(r'<([a-z1-6]*)>', t['tag']).group(1)\n",
    "    if tag_name in reserved_keywords: tag_name = tag_name + \"_\"\n",
    "    \n",
    "    start_tag = t['tag'][:-1]\n",
    "    end_tag   = t['tag'].replace('<', '</')\n",
    "    doc_tag = t['desc']\n",
    "    \n",
    "    tag = f\"\"\"\n",
    "def {tag_name}(attrs=None, content=None):\n",
    "    \\\"\"\" {doc_tag} \\\"\"\"\n",
    "    attrs, content = _prep_args(attrs, content)\n",
    "    return f\"{start_tag}{{attrs}}>{{content}}{end_tag}\"\n",
    "\"\"\"\n",
    "    tag_funcs.append(tag)\n",
    "    \n",
    "\n",
    "with open(\"tags.py\", \"w\") as f:\n",
    "    f.write(\"\\n\".join(tag_funcs))\n"
   ]
  },
  {
   "cell_type": "code",
   "execution_count": 10,
   "id": "8d687f8e",
   "metadata": {},
   "outputs": [],
   "source": [
    "from tags import *"
   ]
  },
  {
   "cell_type": "code",
   "execution_count": 11,
   "id": "c0af18af",
   "metadata": {},
   "outputs": [
    {
     "data": {
      "text/plain": [
       "'<html></html>'"
      ]
     },
     "execution_count": 11,
     "metadata": {},
     "output_type": "execute_result"
    }
   ],
   "source": [
    "#Just content\n",
    "html(\"h1\")"
   ]
  },
  {
   "cell_type": "code",
   "execution_count": 12,
   "id": "eb5367b2",
   "metadata": {},
   "outputs": [
    {
     "data": {
      "text/plain": [
       "'<html></html>'"
      ]
     },
     "execution_count": 12,
     "metadata": {},
     "output_type": "execute_result"
    }
   ],
   "source": [
    "#Just attrs\n",
    "html({\"class\": \"myclass\"})"
   ]
  },
  {
   "cell_type": "code",
   "execution_count": 16,
   "id": "cf0f7ac0",
   "metadata": {},
   "outputs": [
    {
     "data": {
      "text/plain": [
       "'<html class=\"myclass\">some content</html>'"
      ]
     },
     "execution_count": 16,
     "metadata": {},
     "output_type": "execute_result"
    }
   ],
   "source": [
    "# attrs and text content\n",
    "html({\"class\": \"myclass\"}, \"some content\")"
   ]
  },
  {
   "cell_type": "code",
   "execution_count": 18,
   "id": "da2168b9",
   "metadata": {},
   "outputs": [
    {
     "data": {
      "text/plain": [
       "'<html class=\"myclass\"><p></p> <p></p></html>'"
      ]
     },
     "execution_count": 18,
     "metadata": {},
     "output_type": "execute_result"
    }
   ],
   "source": [
    "# attrs and html list content\n",
    "html({\"class\": \"myclass\"}, [p(\"some content\"), p(\"some another co\")])"
   ]
  },
  {
   "cell_type": "code",
   "execution_count": 15,
   "id": "bd12953b",
   "metadata": {},
   "outputs": [
    {
     "data": {
      "text/plain": [
       "'<html class=\"myclass\">(<function p at 0x7f890c8ead30>, \\'some content\\')</html>'"
      ]
     },
     "execution_count": 15,
     "metadata": {},
     "output_type": "execute_result"
    }
   ],
   "source": [
    "# attrs and html content\n",
    "html({\"class\": \"myclass\"}, (p, \"some content\"))"
   ]
  },
  {
   "cell_type": "code",
   "execution_count": null,
   "id": "79b776a9",
   "metadata": {},
   "outputs": [],
   "source": []
  }
 ],
 "metadata": {
  "kernelspec": {
   "display_name": "Python 3",
   "language": "python",
   "name": "python3"
  },
  "language_info": {
   "codemirror_mode": {
    "name": "ipython",
    "version": 3
   },
   "file_extension": ".py",
   "mimetype": "text/x-python",
   "name": "python",
   "nbconvert_exporter": "python",
   "pygments_lexer": "ipython3",
   "version": "3.8.5"
  }
 },
 "nbformat": 4,
 "nbformat_minor": 5
}
