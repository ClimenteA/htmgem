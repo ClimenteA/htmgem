{
 "cells": [
  {
   "cell_type": "code",
   "execution_count": 1,
   "id": "513dbaa0",
   "metadata": {},
   "outputs": [],
   "source": [
    "from htmgem.tags import *\n"
   ]
  },
  {
   "cell_type": "code",
   "execution_count": 2,
   "id": "0bcfd554",
   "metadata": {},
   "outputs": [
    {
     "data": {
      "text/plain": [
       "'<html lang=\"en\"><head><meta charset=\"UTF-8\"></meta><meta name=\"viewport\" content=\"width=device-width, initial-scale=1.0\"></meta><script src=\"https://cdn.jsdelivr.net/gh/alpinejs/alpine@v2.x.x/dist/alpine.min.js\" defer></script><title>page title</title></head><body><p>page content</p></body></html>'"
      ]
     },
     "execution_count": 2,
     "metadata": {},
     "output_type": "execute_result"
    }
   ],
   "source": [
    "Layout = lambda page_title, page_content: \\\n",
    "html({'lang':'en'}, [\n",
    "    head([\n",
    "        meta({'charset':'UTF-8'}),\n",
    "        meta({'name':'viewport', 'content':'width=device-width, initial-scale=1.0'}),\n",
    "        script({'src':'https://cdn.jsdelivr.net/gh/alpinejs/alpine@v2.x.x/dist/alpine.min.js', 'defer':None}),\n",
    "        title(page_title)\n",
    "    ]),\n",
    "\n",
    "    body(page_content)\n",
    "    \n",
    "])\n",
    "\n",
    "\n",
    "Layout(\"page title\", [p(\"page content\")])"
   ]
  },
  {
   "cell_type": "code",
   "execution_count": 5,
   "id": "914cfaf7",
   "metadata": {},
   "outputs": [
    {
     "data": {
      "text/plain": [
       "'<input type=\"text\" required></input>'"
      ]
     },
     "execution_count": 5,
     "metadata": {},
     "output_type": "execute_result"
    }
   ],
   "source": [
    "input_({'type':'text', 'required':None})"
   ]
  },
  {
   "cell_type": "code",
   "execution_count": null,
   "id": "13789b5c",
   "metadata": {},
   "outputs": [],
   "source": []
  },
  {
   "cell_type": "code",
   "execution_count": null,
   "id": "80b24a37",
   "metadata": {},
   "outputs": [],
   "source": [
    "p(attrs={'class':'bg-gray-100', 'id':'first-paragraph'}, children=\"My paragraph\")"
   ]
  },
  {
   "cell_type": "code",
   "execution_count": null,
   "id": "8cbd16cf",
   "metadata": {},
   "outputs": [],
   "source": [
    "p({'class':'bg-gray-100', 'id':'first-paragraph'})"
   ]
  },
  {
   "cell_type": "code",
   "execution_count": null,
   "id": "2f65d4ee",
   "metadata": {},
   "outputs": [],
   "source": [
    "p()"
   ]
  },
  {
   "cell_type": "code",
   "execution_count": null,
   "id": "b0c457ec",
   "metadata": {},
   "outputs": [],
   "source": [
    "div({'class': 'flex items-center'}, [p(f\"My paragraph{nbr}\") for nbr in range(3)])"
   ]
  },
  {
   "cell_type": "code",
   "execution_count": null,
   "id": "1349b22f",
   "metadata": {},
   "outputs": [],
   "source": [
    "def Link(path, content):\n",
    "\n",
    "    class_list = [\n",
    "        'bg-blue-200',\n",
    "        'p-4',\n",
    "        'cursor-pointer'\n",
    "    ]    \n",
    "\n",
    "    return a(\n",
    "        {\"href\": path, \"class\": class_list, 'style':'margin-left:2rem;'}, \n",
    "        content\n",
    "    )\n",
    "\n",
    "\n",
    "Link('/users', 'see users')"
   ]
  },
  {
   "cell_type": "code",
   "execution_count": null,
   "id": "ab3cfa08",
   "metadata": {},
   "outputs": [],
   "source": [
    "data_list = [1,2,3,4]\n",
    "\n",
    "def DataNbrList():\n",
    "    #Whatever operations you want to do on data\n",
    "    \n",
    "    htmli = []\n",
    "    for item in data_list:\n",
    "        htmli.append(li(item))\n",
    "\n",
    "    return [\n",
    "        h4(f\"Currently saved names {len(htmli)}\"),\n",
    "        ul(htmli)\n",
    "    ]\n",
    "\n",
    "\n",
    "div(DataNbrList())"
   ]
  },
  {
   "cell_type": "code",
   "execution_count": null,
   "id": "90dca4cd",
   "metadata": {},
   "outputs": [],
   "source": [
    "div([p, p, p])"
   ]
  },
  {
   "cell_type": "code",
   "execution_count": null,
   "id": "548bc3f0",
   "metadata": {},
   "outputs": [],
   "source": []
  },
  {
   "cell_type": "code",
   "execution_count": null,
   "id": "72fb4c5a",
   "metadata": {},
   "outputs": [],
   "source": [
    "import functools\n",
    "import operator\n",
    "import itertools"
   ]
  },
  {
   "cell_type": "code",
   "execution_count": null,
   "id": "d213c6a9",
   "metadata": {},
   "outputs": [],
   "source": [
    "from functools import lru_cache\n"
   ]
  },
  {
   "cell_type": "code",
   "execution_count": null,
   "id": "a44ce9f8",
   "metadata": {},
   "outputs": [],
   "source": [
    "%%time\n",
    "\n",
    "\n",
    "def Fibonacci(n):\n",
    "    if n<0:\n",
    "        print(\"Incorrect input\")\n",
    "    # First Fibonacci number is 0\n",
    "    elif n==1:\n",
    "        return 0\n",
    "    # Second Fibonacci number is 1\n",
    "    elif n==2:\n",
    "        return 1\n",
    "    else:\n",
    "        return Fibonacci(n-1)+Fibonacci(n-2)\n",
    "\n",
    "    \n",
    "    \n",
    "print(Fibonacci(40))"
   ]
  },
  {
   "cell_type": "code",
   "execution_count": null,
   "id": "683efad1",
   "metadata": {},
   "outputs": [],
   "source": [
    "%%time\n",
    "\n",
    "@lru_cache(maxsize=None)\n",
    "def Fibonacci_cache(n):\n",
    "    if n<0:\n",
    "        print(\"Incorrect input\")\n",
    "    # First Fibonacci number is 0\n",
    "    elif n==1:\n",
    "        return 0\n",
    "    # Second Fibonacci number is 1\n",
    "    elif n==2:\n",
    "        return 1\n",
    "    else:\n",
    "        return Fibonacci_cache(n-1)+Fibonacci_cache(n-2)\n",
    "\n",
    "    \n",
    "    \n",
    "print(Fibonacci_cache(60))"
   ]
  },
  {
   "cell_type": "code",
   "execution_count": null,
   "id": "d7774f78",
   "metadata": {},
   "outputs": [],
   "source": [
    "%%time\n",
    "\n",
    "print(Fibonacci_cache(n=60))\n"
   ]
  },
  {
   "cell_type": "code",
   "execution_count": null,
   "id": "10a6c42b",
   "metadata": {},
   "outputs": [],
   "source": [
    "children = ['<h1 class=\"text-2xl text-center\">Welcome to home page!</h1>', ['<p>\\n You can go to form page to save your name\\n </p>', '<a href=\"/send-data\" class=\"bg-blue-200 p-4 cursor-pointer\">Go to form page</a>', ['<h4>Currently saved names:</h4>', '<br></br>', '<ul></ul>']]]"
   ]
  },
  {
   "cell_type": "code",
   "execution_count": null,
   "id": "4272b36b",
   "metadata": {},
   "outputs": [],
   "source": [
    "children"
   ]
  },
  {
   "cell_type": "code",
   "execution_count": null,
   "id": "4cb4ebd1",
   "metadata": {},
   "outputs": [],
   "source": [
    "for child in children:\n",
    "[[child] for child in children if isintance(child, str) else child]"
   ]
  },
  {
   "cell_type": "code",
   "execution_count": null,
   "id": "9d7f7f44",
   "metadata": {},
   "outputs": [],
   "source": [
    "def flatten(iterable):\n",
    "    iterator, sentinel, stack = iter(iterable), object(), []\n",
    "    while True:\n",
    "        value = next(iterator, sentinel)\n",
    "        if value is sentinel:\n",
    "            if not stack:\n",
    "                break\n",
    "            iterator = stack.pop()\n",
    "        elif isinstance(value, str):\n",
    "            yield value\n",
    "        else:\n",
    "            try:\n",
    "                new_iterator = iter(value)\n",
    "            except TypeError:\n",
    "                yield value\n",
    "            else:\n",
    "                stack.append(iterator)\n",
    "                iterator = new_iterator"
   ]
  },
  {
   "cell_type": "code",
   "execution_count": null,
   "id": "7f25e3fc",
   "metadata": {},
   "outputs": [],
   "source": [
    "# children_ = functools.reduce(operator.iconcat, children, [])\n",
    "children_ = list(flatten(children))\n",
    "# children_ = list(itertools.chain(*children))\n",
    "# children_ = functools.reduce(lambda x,y: print(x,y), children, [])\n",
    "# children_ = functools.reduce(lambda x,y: y[0] if x is None else y, children, [])\n",
    "\n",
    "children_"
   ]
  },
  {
   "cell_type": "code",
   "execution_count": null,
   "id": "bc9185a6",
   "metadata": {},
   "outputs": [],
   "source": []
  },
  {
   "cell_type": "code",
   "execution_count": null,
   "id": "441c3c3a",
   "metadata": {},
   "outputs": [],
   "source": []
  },
  {
   "cell_type": "code",
   "execution_count": null,
   "id": "e6536323",
   "metadata": {},
   "outputs": [],
   "source": []
  },
  {
   "cell_type": "code",
   "execution_count": null,
   "id": "946895eb",
   "metadata": {},
   "outputs": [],
   "source": [
    "import re"
   ]
  },
  {
   "cell_type": "code",
   "execution_count": null,
   "id": "7e11259f",
   "metadata": {},
   "outputs": [],
   "source": [
    "htm_text = \"\"\"\n",
    "<!DOCTYPE html>\n",
    "<html lang=\"en\">\n",
    "<head>\n",
    "    <meta charset=\"UTF-8\">\n",
    "    <meta http-equiv=\"X-UA-Compatible\" content=\"IE=edge\">\n",
    "    <meta name=\"viewport\" content=\"width=device-width, initial-scale=1.0\">\n",
    "    <link rel=\"stylesheet\" href=\"https://cdnjs.cloudflare.com/ajax/libs/tailwindcss/2.1.2/tailwind.min.css\">\n",
    "    <script src=\"https://cdn.jsdelivr.net/gh/alpinejs/alpine@v2.x.x/dist/alpine.min.js\" defer></script>\n",
    "</head>\n",
    "<body>\n",
    "    \n",
    "<div id=\"htmlgem-app\">\n",
    "    \n",
    "    <!-- This will be replaced-->\n",
    "\n",
    "</div>\n",
    "\n",
    "</body>\n",
    "</html>\n",
    "\n",
    "\"\"\"\n",
    "htm_text"
   ]
  },
  {
   "cell_type": "code",
   "execution_count": null,
   "id": "0d859492",
   "metadata": {},
   "outputs": [],
   "source": [
    "pattern = re.compile(r'(<div id=\"htmlgem-app\">)(.*?)(</div>)', re.DOTALL)\n",
    "\n",
    "re.sub(pattern, r\"\\1data\\3\", htm_text)"
   ]
  },
  {
   "cell_type": "code",
   "execution_count": null,
   "id": "50e21461",
   "metadata": {},
   "outputs": [],
   "source": [
    "re.sub('ab', 'ad', 'abc')"
   ]
  },
  {
   "cell_type": "code",
   "execution_count": null,
   "id": "118a1acd",
   "metadata": {},
   "outputs": [],
   "source": [
    "re.sub('(a)b', r'\\1d', 'abc')"
   ]
  },
  {
   "cell_type": "code",
   "execution_count": null,
   "id": "2471a882",
   "metadata": {},
   "outputs": [],
   "source": [
    "pattern = re.compile(\"I am (\\d{1,2}) .*\")\n",
    "\n",
    "text = \"I am 32 years old\"\n",
    "\n",
    "re.sub(pattern, r\"Your are \\1 years old.\", text)"
   ]
  },
  {
   "cell_type": "code",
   "execution_count": null,
   "id": "72cf492d",
   "metadata": {},
   "outputs": [],
   "source": [
    "'rerer=\"None\" asdas=\"None\"'.replace('=\"None\"', '')"
   ]
  },
  {
   "cell_type": "code",
   "execution_count": null,
   "id": "e1ffc67f",
   "metadata": {},
   "outputs": [],
   "source": []
  },
  {
   "cell_type": "code",
   "execution_count": null,
   "id": "46c29131",
   "metadata": {},
   "outputs": [],
   "source": []
  },
  {
   "cell_type": "code",
   "execution_count": null,
   "id": "f5ec0e1e",
   "metadata": {},
   "outputs": [],
   "source": []
  },
  {
   "cell_type": "code",
   "execution_count": null,
   "id": "150f16e7",
   "metadata": {},
   "outputs": [],
   "source": []
  },
  {
   "cell_type": "code",
   "execution_count": null,
   "id": "8a6edaf7",
   "metadata": {},
   "outputs": [],
   "source": []
  },
  {
   "cell_type": "code",
   "execution_count": null,
   "id": "5a6bf48c",
   "metadata": {},
   "outputs": [],
   "source": []
  }
 ],
 "metadata": {
  "kernelspec": {
   "display_name": "Python 3",
   "language": "python",
   "name": "python3"
  },
  "language_info": {
   "codemirror_mode": {
    "name": "ipython",
    "version": 3
   },
   "file_extension": ".py",
   "mimetype": "text/x-python",
   "name": "python",
   "nbconvert_exporter": "python",
   "pygments_lexer": "ipython3",
   "version": "3.8.5"
  }
 },
 "nbformat": 4,
 "nbformat_minor": 5
}
